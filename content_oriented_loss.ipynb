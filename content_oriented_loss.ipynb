{
 "cells": [
  {
   "cell_type": "code",
   "execution_count": null,
   "metadata": {},
   "outputs": [],
   "source": [
    "from torch.utils.data import Dataset"
   ]
  },
  {
   "cell_type": "code",
   "execution_count": null,
   "metadata": {},
   "outputs": [],
   "source": [
    "class ContentOrientedDataset(Dataset):\n",
    "    def __init__(self, root='', crop_size=256, \n",
    "        normalize=False, **kwargs):\n",
    "        super().__init__()\n",
    "        pass\n",
    "\n",
    "    def _augment(self, img, face_masks, structure_masks):\n",
    "        pass\n",
    "\n",
    "    def _transforms(self, img, face_mask, structure_mask):\n",
    "        pass\n",
    "    \n",
    "    def get_face_mask(self, idx, shape): \n",
    "        pass\n",
    "\n",
    "    def get_structure_mask(self, idx):\n",
    "        pass\n",
    "\n",
    "    def __getitem__(self, idx):\n",
    "        pass\n",
    "\n",
    "\n",
    "        "
   ]
  }
 ],
 "metadata": {
  "language_info": {
   "name": "python"
  },
  "orig_nbformat": 4
 },
 "nbformat": 4,
 "nbformat_minor": 2
}
