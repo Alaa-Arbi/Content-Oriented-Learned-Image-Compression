{
 "cells": [
  {
   "cell_type": "code",
   "execution_count": null,
   "metadata": {},
   "outputs": [],
   "source": [
    "import os\n",
    "import glob \n",
    "import json\n",
    "from torch.utils.data import Dataset"
   ]
  },
  {
   "cell_type": "code",
   "execution_count": null,
   "metadata": {},
   "outputs": [],
   "source": [
    "class ContentOrientedDataset(Dataset):\n",
    "    def __init__(self, root='', crop_size=256, \n",
    "        normalize=False, **kwargs):\n",
    "        super().__init__()\n",
    "        \n",
    "        self.data_dir = root \n",
    "        img_extensions = ['.jpg', '.png']\n",
    "        self.imgs = []\n",
    "        for ext in img_extensions:\n",
    "            self.imgs += glob.glob(os.path.join(self.data_dir, f'images/**/*{ext}'), recursive=True)\n",
    "        self.crop_size = crop_size\n",
    "        self.image_dims = (3, self.crop_size, self.crop_size)\n",
    "        self.normalize = normalize\n",
    "        json_file_path = os.path.join(self.data_dir, \"face_coords.json\")\n",
    "        with open(json_file_path, 'r') as json_file:\n",
    "            self.face_coords = json.load(json_file)\n",
    "\n",
    "    def _augment(self, img, face_masks, structure_masks):\n",
    "        pass\n",
    "\n",
    "    def _transforms(self, img, face_mask, structure_mask):\n",
    "        pass\n",
    "    \n",
    "    def get_face_mask(self, idx, shape): \n",
    "        pass\n",
    "\n",
    "    def get_structure_mask(self, idx):\n",
    "        pass\n",
    "\n",
    "    def __getitem__(self, idx):\n",
    "        pass\n",
    "\n",
    "\n",
    "        "
   ]
  }
 ],
 "metadata": {
  "language_info": {
   "name": "python"
  },
  "orig_nbformat": 4
 },
 "nbformat": 4,
 "nbformat_minor": 2
}
